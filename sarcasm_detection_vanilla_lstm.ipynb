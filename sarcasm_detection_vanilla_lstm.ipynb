{
  "nbformat": 4,
  "nbformat_minor": 0,
  "metadata": {
    "colab": {
      "provenance": []
    },
    "kernelspec": {
      "name": "python3",
      "display_name": "Python 3"
    },
    "language_info": {
      "name": "python"
    }
  },
  "cells": [
    {
      "cell_type": "markdown",
      "source": [
        "## Importing Libraries\n"
      ],
      "metadata": {
        "id": "HhtlCUZnQHsB"
      }
    },
    {
      "cell_type": "code",
      "source": [
        "## Importing libraries \n",
        "import pandas as pd \n",
        "import numpy as np\n",
        "import re\n",
        "import nltk\n",
        "import spacy\n",
        "import gensim\n",
        "nltk.download('stopwords')\n",
        "nltk.download('punkt')\n",
        "from nltk.corpus import stopwords\n",
        "from nltk.tokenize import word_tokenize\n",
        "from string import punctuation\n",
        "from contraction import CONTRACTION_MAP\n",
        "\n",
        "import matplotlib.pyplot as plt\n",
        "import seaborn as sns\n",
        "\n",
        "from sklearn.model_selection import train_test_split\n",
        "from sklearn.metrics import classification_report\n",
        "\n",
        "from tensorflow.keras.preprocessing.text import Tokenizer\n",
        "from tensorflow.keras.preprocessing.sequence import pad_sequences\n",
        "from tensorflow.keras.models import Sequential\n",
        "from tensorflow.keras.layers import Embedding, LSTM, Dense\n",
        "from tensorflow.keras.initializers import Constant"
      ],
      "metadata": {
        "colab": {
          "base_uri": "https://localhost:8080/"
        },
        "id": "tbrwKzSlQJus",
        "outputId": "142e4736-fc99-4b76-cb59-4db2359d706c"
      },
      "execution_count": 61,
      "outputs": [
        {
          "output_type": "stream",
          "name": "stderr",
          "text": [
            "[nltk_data] Downloading package stopwords to /root/nltk_data...\n",
            "[nltk_data]   Package stopwords is already up-to-date!\n",
            "[nltk_data] Downloading package punkt to /root/nltk_data...\n",
            "[nltk_data]   Package punkt is already up-to-date!\n"
          ]
        }
      ]
    },
    {
      "cell_type": "markdown",
      "source": [
        "## Understanding the data"
      ],
      "metadata": {
        "id": "FNUlStREtrvj"
      }
    },
    {
      "cell_type": "code",
      "source": [
        "## Load data set \n",
        "headlines = pd.read_json(\"Sarcasm_Headlines_Dataset.json\", lines=True)\n",
        "\n",
        "## Size of the data \n",
        "print(f\"Size of the data :- {headlines.shape}\\n\")\n",
        "\n",
        "## How data looks like \n",
        "print(f\"Sample Data :- \\n{headlines.head(5)}\\n\")\n",
        "\n",
        "## checking is there any null values present in the dataset or not \n",
        "print(f\"Checking null values :- \\n{headlines.isnull().sum()}\")\n",
        "\n",
        "## checking duplicate values in headline \n",
        "print(f\"\\nTotal number of unique values in Headline Feature :- {len(headlines.headline.unique())}\")\n",
        "print(f\"Total number of duplicate values in Headline Feature :- {len(headlines.headline) - len(headlines.headline.unique()) }\")\n",
        "\n",
        "## Checking is duplicate headline have same target value or not \n",
        "duplicate = 0\n",
        "for target in headlines.groupby(headlines.headline).is_sarcastic.agg(list):\n",
        "    if len(set(target)) != 1:\n",
        "        duplicate += 1\n",
        "print(f\"\\nTotal number of headlines have more than 1 target value :- {duplicate}\")\n",
        "\n",
        "## Drop duplicate values \n",
        "headlines = headlines[['is_sarcastic', 'headline']]\n",
        "headlines.drop_duplicates(subset=['is_sarcastic', 'headline'], inplace=True)\n",
        "print(f\"\\nSize of the data after dropping duplicate values :- {len(headlines)}\")\n"
      ],
      "metadata": {
        "id": "sGZwQPvfQjNB",
        "colab": {
          "base_uri": "https://localhost:8080/"
        },
        "outputId": "9ef21029-54f0-4679-ae12-fd8e0166bd21"
      },
      "execution_count": 62,
      "outputs": [
        {
          "output_type": "stream",
          "name": "stdout",
          "text": [
            "Size of the data :- (28619, 3)\n",
            "\n",
            "Sample Data :- \n",
            "   is_sarcastic                                           headline  \\\n",
            "0             1  thirtysomething scientists unveil doomsday clo...   \n",
            "1             0  dem rep. totally nails why congress is falling...   \n",
            "2             0  eat your veggies: 9 deliciously different recipes   \n",
            "3             1  inclement weather prevents liar from getting t...   \n",
            "4             1  mother comes pretty close to using word 'strea...   \n",
            "\n",
            "                                        article_link  \n",
            "0  https://www.theonion.com/thirtysomething-scien...  \n",
            "1  https://www.huffingtonpost.com/entry/donna-edw...  \n",
            "2  https://www.huffingtonpost.com/entry/eat-your-...  \n",
            "3  https://local.theonion.com/inclement-weather-p...  \n",
            "4  https://www.theonion.com/mother-comes-pretty-c...  \n",
            "\n",
            "Checking null values :- \n",
            "is_sarcastic    0\n",
            "headline        0\n",
            "article_link    0\n",
            "dtype: int64\n",
            "\n",
            "Total number of unique values in Headline Feature :- 28503\n",
            "Total number of duplicate values in Headline Feature :- 116\n",
            "\n",
            "Total number of headlines have more than 1 target value :- 0\n",
            "\n",
            "Size of the data after dropping duplicate values :- 28503\n"
          ]
        },
        {
          "output_type": "stream",
          "name": "stderr",
          "text": [
            "/usr/local/lib/python3.8/dist-packages/pandas/util/_decorators.py:311: SettingWithCopyWarning: \n",
            "A value is trying to be set on a copy of a slice from a DataFrame\n",
            "\n",
            "See the caveats in the documentation: https://pandas.pydata.org/pandas-docs/stable/user_guide/indexing.html#returning-a-view-versus-a-copy\n",
            "  return func(*args, **kwargs)\n"
          ]
        }
      ]
    },
    {
      "cell_type": "code",
      "source": [
        "## Visualization of headlines count based on target values \n",
        "plt.figure(figsize=(5,5))\n",
        "## palette codes : rocket, magma, viridis, cubehelix, seagreen, Blues, YlOrBr\n",
        "sns.countplot(headlines.is_sarcastic, palette='rocket')\n",
        "plt.title('Distribution of Target Count', size=25, weight='bold')\n",
        "plt.xlabel('Target Label', size=15, weight='bold')\n",
        "plt.ylabel('Count', size=15, weight='bold')\n",
        "plt.show()"
      ],
      "metadata": {
        "colab": {
          "base_uri": "https://localhost:8080/",
          "height": 419
        },
        "id": "1rns7XxuRZs5",
        "outputId": "ac2966a6-d95a-4b35-c5ea-b1b22239126c"
      },
      "execution_count": 63,
      "outputs": [
        {
          "output_type": "stream",
          "name": "stderr",
          "text": [
            "/usr/local/lib/python3.8/dist-packages/seaborn/_decorators.py:36: FutureWarning: Pass the following variable as a keyword arg: x. From version 0.12, the only valid positional argument will be `data`, and passing other arguments without an explicit keyword will result in an error or misinterpretation.\n",
            "  warnings.warn(\n"
          ]
        },
        {
          "output_type": "display_data",
          "data": {
            "text/plain": [
              "<Figure size 360x360 with 1 Axes>"
            ],
            "image/png": "[encoded data removed]"
          },
          "metadata": {
            "needs_background": "light"
          }
        }
      ]
    },
    {
      "cell_type": "markdown",
      "source": [
        "## Text Preprocessing"
      ],
      "metadata": {
        "id": "1Hf6_eDMuSB-"
      }
    },
    {
      "cell_type": "code",
      "source": [
        "## Getting list stop words \n",
        "all_stopwords = []\n",
        "stopwords_nltk = list(stopwords.words('english'))\n",
        "sp = spacy.load('en_core_web_sm')\n",
        "stopwords_spacy = list(sp.Defaults.stop_words)\n",
        "stopwords_gensim = list(gensim.parsing.preprocessing.STOPWORDS)\n",
        "all_stopwords.extend(stopwords_nltk)\n",
        "all_stopwords.extend(stopwords_spacy)\n",
        "all_stopwords.extend(stopwords_gensim)\n",
        "\n",
        "all_stopwords = list(set(all_stopwords))\n",
        "\n",
        "## Define function to clean headline text\n",
        "def headline_cleaning(headline):\n",
        "    headline = headline.lower()\n",
        "    \n",
        "    ## removing numbers\n",
        "    number_pattern = '\\d+'\n",
        "    headline = re.sub(pattern=number_pattern, repl=\" \", string=headline)\n",
        "    \n",
        "    ## Removing punctuation\n",
        "    headline = headline.translate(str.maketrans('', '', punctuation))\n",
        "    \n",
        "    ## removing stopwords\n",
        "    headline = ' '.join(word for word in headline.split() if word not in all_stopwords)\n",
        "    \n",
        "    ## Removing Single Character\n",
        "    single_char_pattern = r'\\s+[a-zA-Z]\\s+'\n",
        "    headline = re.sub(pattern = single_char_pattern, repl=\" \", string=headline)\n",
        "    \n",
        "    ## Removing Extra Spaces y\n",
        "    \n",
        "    space_pattern = r'\\s+'\n",
        "    headline = re.sub(pattern=space_pattern, repl=\" \", string=headline)\n",
        "    \n",
        "    return headline\n",
        "\n",
        "## Applying text preprocessing steps on headline text\n",
        "headlines.headline = headlines.headline.apply(headline_cleaning)"
      ],
      "metadata": {
        "id": "QwmCOMR7Rgw5"
      },
      "execution_count": 64,
      "outputs": []
    },
    {
      "cell_type": "code",
      "source": [
        "## Find total number of words \n",
        "corpus = []\n",
        "for text in headlines['headline']:\n",
        "    words = [word.lower() for word in word_tokenize(text)] \n",
        "    corpus.append(words)\n",
        "\n",
        "## Find max length of headline \n",
        "headline_length = [len(headline) for headline in corpus]\n",
        "print(f\"Max length of headline text :- {max(headline_length)}\")\n",
        "\n",
        "## Creating dataframe with headline length \n",
        "headline_lenght_df = pd.DataFrame({'headline_length':headline_length})\n",
        "\n",
        "## Visualization of headlines count based on target values \n",
        "plt.figure(figsize=(10,10))\n",
        "## palette codes : rocket, magma, viridis, cubehelix, seagreen, Blues, YlOrBr\n",
        "sns.countplot(headline_lenght_df.headline_length, palette='rocket')\n",
        "plt.title('Distribution of Target Count', size=25, weight='bold')\n",
        "plt.xlabel('LENGTH', size=15, weight='bold')\n",
        "plt.ylabel('Count', size=15, weight='bold')\n",
        "plt.show()"
      ],
      "metadata": {
        "colab": {
          "base_uri": "https://localhost:8080/",
          "height": 708
        },
        "id": "oHnWO9CNRyOV",
        "outputId": "00059e46-2ce0-4710-e5b8-d6d12bed28f2"
      },
      "execution_count": 65,
      "outputs": [
        {
          "output_type": "stream",
          "name": "stdout",
          "text": [
            "Max length of headline text :- 101\n"
          ]
        },
        {
          "output_type": "stream",
          "name": "stderr",
          "text": [
            "/usr/local/lib/python3.8/dist-packages/seaborn/_decorators.py:36: FutureWarning: Pass the following variable as a keyword arg: x. From version 0.12, the only valid positional argument will be `data`, and passing other arguments without an explicit keyword will result in an error or misinterpretation.\n",
            "  warnings.warn(\n"
          ]
        },
        {
          "output_type": "display_data",
          "data": {
            "text/plain": [
              "<Figure size 720x720 with 1 Axes>"
            ],
            "image/png": "[encoded data removed]"
          },
          "metadata": {
            "needs_background": "light"
          }
        }
      ]
    },
    {
      "cell_type": "code",
      "source": [
        "sample_data = headlines.copy()\n",
        "sample_data['length'] = headline_length\n",
        "sample_data = sample_data[sample_data['length'] > 2]\n",
        "headlines = sample_data[['is_sarcastic', 'headline']]\n",
        "\n",
        "## Visualization of headlines count based on target values \n",
        "plt.figure(figsize=(10,10))\n",
        "## palette codes : rocket, magma, viridis, cubehelix, seagreen, Blues, YlOrBr\n",
        "sns.countplot(sample_data.length, palette='rocket')\n",
        "plt.title('Distribution of Target Count', size=25, weight='bold')\n",
        "plt.xlabel('LENGTH', size=15, weight='bold')\n",
        "plt.ylabel('Count', size=15, weight='bold')\n",
        "plt.show()"
      ],
      "metadata": {
        "colab": {
          "base_uri": "https://localhost:8080/",
          "height": 691
        },
        "id": "Auk4INdOVmt8",
        "outputId": "588cfd6d-38e3-4377-f983-b904ebc48611"
      },
      "execution_count": 66,
      "outputs": [
        {
          "output_type": "stream",
          "name": "stderr",
          "text": [
            "/usr/local/lib/python3.8/dist-packages/seaborn/_decorators.py:36: FutureWarning: Pass the following variable as a keyword arg: x. From version 0.12, the only valid positional argument will be `data`, and passing other arguments without an explicit keyword will result in an error or misinterpretation.\n",
            "  warnings.warn(\n"
          ]
        },
        {
          "output_type": "display_data",
          "data": {
            "text/plain": [
              "<Figure size 720x720 with 1 Axes>"
            ],
            "image/png": "[encoded data removed]"
          },
          "metadata": {
            "needs_background": "light"
          }
        }
      ]
    },
    {
      "cell_type": "code",
      "source": [
        "## Define headline and target variables \n",
        "X = headlines.headline.values\n",
        "Y = headlines.is_sarcastic.values\n",
        "\n",
        "## Split Entire dataset to train and test sets\n",
        "X_train, X_test, Y_train, y_test = train_test_split(X, Y, test_size=0.2, random_state=45)\n",
        "\n",
        "print(f\"Size of the Train data :- {len(X_train)}\")\n",
        "print(f\"Size of the Test data :- {len(X_test)}\")"
      ],
      "metadata": {
        "id": "dOGs9n2zR6PN",
        "colab": {
          "base_uri": "https://localhost:8080/"
        },
        "outputId": "7dddf10d-8a1a-488e-e64c-c35edb366488"
      },
      "execution_count": 67,
      "outputs": [
        {
          "output_type": "stream",
          "name": "stdout",
          "text": [
            "Size of the Train data :- 22240\n",
            "Size of the Test data :- 5561\n"
          ]
        }
      ]
    },
    {
      "cell_type": "markdown",
      "source": [
        "## Tokenization step"
      ],
      "metadata": {
        "id": "HpmnTJk2vJef"
      }
    },
    {
      "cell_type": "code",
      "source": [
        "## Define maximum sequence length\n",
        "MAX_SEQ_LENGTH = 25\n",
        "\n",
        "\n",
        "## define tokenizer object \n",
        "tokenizer = Tokenizer()\n",
        "tokenizer.fit_on_texts(X_train)\n",
        "\n",
        "## create same length of headlines for train and test datasets\n",
        "X_train = tokenizer.texts_to_sequences(X_train)\n",
        "X_train = pad_sequences(X_train, maxlen=MAX_SEQ_LENGTH, truncating='post', padding='post')\n",
        "\n",
        "X_test = tokenizer.texts_to_sequences(X_test)\n",
        "X_test = pad_sequences(X_test, maxlen=MAX_SEQ_LENGTH, truncating='post', padding='post')\n",
        "\n",
        "## Checking unique words\n",
        "word_index = tokenizer.word_index\n",
        "print(f\"Number of unique words: {len(word_index) + 1}\")"
      ],
      "metadata": {
        "id": "v7b94DjWncyp",
        "colab": {
          "base_uri": "https://localhost:8080/"
        },
        "outputId": "72cee7d5-c9e1-4883-d949-5da7cf2994a6"
      },
      "execution_count": 68,
      "outputs": [
        {
          "output_type": "stream",
          "name": "stdout",
          "text": [
            "Number of unique words: 25459\n"
          ]
        }
      ]
    },
    {
      "cell_type": "markdown",
      "source": [
        "## Wordembedding \n"
      ],
      "metadata": {
        "id": "PxAFJoJTvndD"
      }
    },
    {
      "cell_type": "code",
      "source": [
        "## download word embedding glove \n",
        "!wget http://nlp.stanford.edu/data/glove.6B.zip\n",
        "\n",
        "## Unzip glove word embedding file \n",
        "!unzip /content/glove.6B.zip -d \"Glove\""
      ],
      "metadata": {
        "colab": {
          "base_uri": "https://localhost:8080/"
        },
        "id": "n5G4ZH05vpUM",
        "outputId": "29594dc0-943f-4846-9632-8758ae6d0328"
      },
      "execution_count": 69,
      "outputs": [
        {
          "output_type": "stream",
          "name": "stdout",
          "text": [
            "--2023-03-07 08:38:10--  http://nlp.stanford.edu/data/glove.6B.zip\n",
            "Resolving nlp.stanford.edu (nlp.stanford.edu)... 171.64.67.140\n",
            "Connecting to nlp.stanford.edu (nlp.stanford.edu)|171.64.67.140|:80... connected.\n",
            "HTTP request sent, awaiting response... 302 Found\n",
            "Location: https://nlp.stanford.edu/data/glove.6B.zip [following]\n",
            "--2023-03-07 08:38:10--  https://nlp.stanford.edu/data/glove.6B.zip\n",
            "Connecting to nlp.stanford.edu (nlp.stanford.edu)|171.64.67.140|:443... connected.\n",
            "HTTP request sent, awaiting response... 301 Moved Permanently\n",
            "Location: https://downloads.cs.stanford.edu/nlp/data/glove.6B.zip [following]\n",
            "--2023-03-07 08:38:10--  https://downloads.cs.stanford.edu/nlp/data/glove.6B.zip\n",
            "Resolving downloads.cs.stanford.edu (downloads.cs.stanford.edu)... 171.64.64.22\n",
            "Connecting to downloads.cs.stanford.edu (downloads.cs.stanford.edu)|171.64.64.22|:443... connected.\n",
            "HTTP request sent, awaiting response... 200 OK\n",
            "Length: 862182613 (822M) [application/zip]\n",
            "Saving to: ‘glove.6B.zip.1’\n",
            "\n",
            "glove.6B.zip.1      100%[===================>] 822.24M  5.01MB/s    in 2m 39s  \n",
            "\n",
            "2023-03-07 08:40:50 (5.17 MB/s) - ‘glove.6B.zip.1’ saved [862182613/862182613]\n",
            "\n",
            "Archive:  /content/glove.6B.zip\n",
            "replace Glove/glove.6B.50d.txt? [y]es, [n]o, [A]ll, [N]one, [r]ename: y\n",
            "  inflating: Glove/glove.6B.50d.txt  \n",
            "replace Glove/glove.6B.100d.txt? [y]es, [n]o, [A]ll, [N]one, [r]ename: y\n",
            "  inflating: Glove/glove.6B.100d.txt  \n",
            "replace Glove/glove.6B.200d.txt? [y]es, [n]o, [A]ll, [N]one, [r]ename: y\n",
            "  inflating: Glove/glove.6B.200d.txt  \n",
            "replace Glove/glove.6B.300d.txt? [y]es, [n]o, [A]ll, [N]one, [r]ename: y\n",
            "  inflating: Glove/glove.6B.300d.txt  \n"
          ]
        }
      ]
    },
    {
      "cell_type": "code",
      "source": [
        "## Creating dictionary with glove words & vector values\n",
        "glove_embedding = {}\n",
        "\n",
        "with open('/content/Glove/glove.6B.100d.txt') as glove_file:\n",
        "  for line in glove_file:\n",
        "    values = line.split()\n",
        "    word = values[0]\n",
        "    word_vector = np.asarray(values[1:], 'float32')\n",
        "    glove_embedding[word] = word_vector\n",
        "\n",
        "glove_file.close()\n",
        "\n",
        "## Define global variables \n",
        "EMBED_DIM = 100\n",
        "TOTAL_NUM_WORDS = len(word_index) + 1\n",
        "MAX_SEQ_LENGTH = 25\n",
        "\n",
        "## Creating a embedding matrix for headline words using glove wordembedding matrix\n",
        "embedding_matrix = np.zeros((TOTAL_NUM_WORDS, EMBED_DIM))\n",
        "\n",
        "for i, word in tokenizer.index_word.items():\n",
        "  if i < TOTAL_NUM_WORDS:\n",
        "    vector = glove_embedding.get(word)\n",
        "    if vector is not None:\n",
        "      embedding_matrix[i] = vector"
      ],
      "metadata": {
        "id": "QAaBOFFh3RXJ"
      },
      "execution_count": 78,
      "outputs": []
    },
    {
      "cell_type": "markdown",
      "source": [
        "## Build Vanilla LSTM"
      ],
      "metadata": {
        "id": "WZf5kCH47saH"
      }
    },
    {
      "cell_type": "code",
      "source": [
        "EMBED_DIM = 100\n",
        "TOTAL_NUM_WORDS = len(word_index) + 1\n",
        "MAX_SEQ_LENGTH = 25\n",
        "\n",
        "vanilla_lstm_model = Sequential()\n",
        "vanilla_lstm_model.add(Embedding(input_dim=TOTAL_NUM_WORDS, \n",
        "                                 output_dim = EMBED_DIM,\n",
        "                                 embeddings_initializer = Constant(embedding_matrix),\n",
        "                                 input_length = MAX_SEQ_LENGTH,\n",
        "                                 trainable=False))\n",
        "vanilla_lstm_model.add(LSTM(100, dropout=0.3))\n",
        "vanilla_lstm_model.add(Dense(1, activation='sigmoid'))\n",
        "\n",
        "## Adding loss , optimizer and metrics to model\n",
        "vanilla_lstm_model.compile(loss='binary_crossentropy', optimizer='adam', metrics=['accuracy'])\n"
      ],
      "metadata": {
        "id": "rLn_fZvn74SQ"
      },
      "execution_count": 71,
      "outputs": []
    },
    {
      "cell_type": "code",
      "source": [
        "vanilla_lstm_model.summary()"
      ],
      "metadata": {
        "colab": {
          "base_uri": "https://localhost:8080/"
        },
        "id": "joTdAWpC9r6o",
        "outputId": "ed37f03c-8663-4bda-9d71-3dea374e9860"
      },
      "execution_count": 72,
      "outputs": [
        {
          "output_type": "stream",
          "name": "stdout",
          "text": [
            "Model: \"sequential_1\"\n",
            "_________________________________________________________________\n",
            " Layer (type)                Output Shape              Param #   \n",
            "=================================================================\n",
            " embedding_1 (Embedding)     (None, 25, 100)           2545900   \n",
            "                                                                 \n",
            " lstm_1 (LSTM)               (None, 100)               80400     \n",
            "                                                                 \n",
            " dense_1 (Dense)             (None, 1)                 101       \n",
            "                                                                 \n",
            "=================================================================\n",
            "Total params: 2,626,401\n",
            "Trainable params: 80,501\n",
            "Non-trainable params: 2,545,900\n",
            "_________________________________________________________________\n"
          ]
        }
      ]
    },
    {
      "cell_type": "code",
      "source": [
        "## Train the model\n",
        "history = vanilla_lstm_model.fit(X_train, \n",
        "                                 Y_train, \n",
        "                                 epochs=30, \n",
        "                                 batch_size=256, \n",
        "                                 validation_data=(X_test, y_test))"
      ],
      "metadata": {
        "colab": {
          "base_uri": "https://localhost:8080/"
        },
        "id": "xrYe_aqP9vex",
        "outputId": "7e38774a-081f-4645-c090-77ed859c8a7b"
      },
      "execution_count": 73,
      "outputs": [
        {
          "output_type": "stream",
          "name": "stdout",
          "text": [
            "Epoch 1/30\n",
            "87/87 [==============================] - 17s 155ms/step - loss: 0.6107 - accuracy: 0.6591 - val_loss: 0.5570 - val_accuracy: 0.7094\n",
            "Epoch 2/30\n",
            "87/87 [==============================] - 13s 148ms/step - loss: 0.5432 - accuracy: 0.7249 - val_loss: 0.5184 - val_accuracy: 0.7387\n",
            "Epoch 3/30\n",
            "87/87 [==============================] - 13s 155ms/step - loss: 0.5043 - accuracy: 0.7540 - val_loss: 0.4833 - val_accuracy: 0.7605\n",
            "Epoch 4/30\n",
            "87/87 [==============================] - 12s 136ms/step - loss: 0.4791 - accuracy: 0.7704 - val_loss: 0.4644 - val_accuracy: 0.7736\n",
            "Epoch 5/30\n",
            "87/87 [==============================] - 11s 131ms/step - loss: 0.4611 - accuracy: 0.7790 - val_loss: 0.4638 - val_accuracy: 0.7770\n",
            "Epoch 6/30\n",
            "87/87 [==============================] - 11s 123ms/step - loss: 0.4497 - accuracy: 0.7870 - val_loss: 0.4594 - val_accuracy: 0.7770\n",
            "Epoch 7/30\n",
            "87/87 [==============================] - 12s 138ms/step - loss: 0.4308 - accuracy: 0.7993 - val_loss: 0.4417 - val_accuracy: 0.7858\n",
            "Epoch 8/30\n",
            "87/87 [==============================] - 12s 139ms/step - loss: 0.4242 - accuracy: 0.8058 - val_loss: 0.4485 - val_accuracy: 0.7803\n",
            "Epoch 9/30\n",
            "87/87 [==============================] - 12s 139ms/step - loss: 0.4117 - accuracy: 0.8104 - val_loss: 0.4413 - val_accuracy: 0.7891\n",
            "Epoch 10/30\n",
            "87/87 [==============================] - 12s 138ms/step - loss: 0.4046 - accuracy: 0.8129 - val_loss: 0.4324 - val_accuracy: 0.7930\n",
            "Epoch 11/30\n",
            "87/87 [==============================] - 12s 137ms/step - loss: 0.3924 - accuracy: 0.8203 - val_loss: 0.4336 - val_accuracy: 0.7892\n",
            "Epoch 12/30\n",
            "87/87 [==============================] - 12s 138ms/step - loss: 0.3836 - accuracy: 0.8259 - val_loss: 0.4278 - val_accuracy: 0.7932\n",
            "Epoch 13/30\n",
            "87/87 [==============================] - 12s 138ms/step - loss: 0.3734 - accuracy: 0.8265 - val_loss: 0.4440 - val_accuracy: 0.7909\n",
            "Epoch 14/30\n",
            "87/87 [==============================] - 12s 139ms/step - loss: 0.3645 - accuracy: 0.8378 - val_loss: 0.4448 - val_accuracy: 0.7903\n",
            "Epoch 15/30\n",
            "87/87 [==============================] - 12s 133ms/step - loss: 0.3696 - accuracy: 0.8325 - val_loss: 0.4356 - val_accuracy: 0.7948\n",
            "Epoch 16/30\n",
            "87/87 [==============================] - 12s 137ms/step - loss: 0.3541 - accuracy: 0.8393 - val_loss: 0.4345 - val_accuracy: 0.7955\n",
            "Epoch 17/30\n",
            "87/87 [==============================] - 12s 137ms/step - loss: 0.3455 - accuracy: 0.8470 - val_loss: 0.4322 - val_accuracy: 0.7950\n",
            "Epoch 18/30\n",
            "87/87 [==============================] - 11s 124ms/step - loss: 0.3377 - accuracy: 0.8499 - val_loss: 0.4495 - val_accuracy: 0.7869\n",
            "Epoch 19/30\n",
            "87/87 [==============================] - 13s 153ms/step - loss: 0.3366 - accuracy: 0.8501 - val_loss: 0.4416 - val_accuracy: 0.7990\n",
            "Epoch 20/30\n",
            "87/87 [==============================] - 11s 125ms/step - loss: 0.3290 - accuracy: 0.8523 - val_loss: 0.4659 - val_accuracy: 0.7880\n",
            "Epoch 21/30\n",
            "87/87 [==============================] - 12s 138ms/step - loss: 0.3298 - accuracy: 0.8543 - val_loss: 0.4296 - val_accuracy: 0.7993\n",
            "Epoch 22/30\n",
            "87/87 [==============================] - 12s 138ms/step - loss: 0.3177 - accuracy: 0.8599 - val_loss: 0.4363 - val_accuracy: 0.8006\n",
            "Epoch 23/30\n",
            "87/87 [==============================] - 13s 155ms/step - loss: 0.3118 - accuracy: 0.8629 - val_loss: 0.4304 - val_accuracy: 0.8056\n",
            "Epoch 24/30\n",
            "87/87 [==============================] - 12s 137ms/step - loss: 0.3093 - accuracy: 0.8632 - val_loss: 0.4279 - val_accuracy: 0.8036\n",
            "Epoch 25/30\n",
            "87/87 [==============================] - 12s 138ms/step - loss: 0.3010 - accuracy: 0.8673 - val_loss: 0.4352 - val_accuracy: 0.8011\n",
            "Epoch 26/30\n",
            "87/87 [==============================] - 12s 138ms/step - loss: 0.2939 - accuracy: 0.8711 - val_loss: 0.4306 - val_accuracy: 0.8049\n",
            "Epoch 27/30\n",
            "87/87 [==============================] - 12s 134ms/step - loss: 0.2939 - accuracy: 0.8717 - val_loss: 0.4593 - val_accuracy: 0.7995\n",
            "Epoch 28/30\n",
            "87/87 [==============================] - 12s 138ms/step - loss: 0.2958 - accuracy: 0.8714 - val_loss: 0.4553 - val_accuracy: 0.8004\n",
            "Epoch 29/30\n",
            "87/87 [==============================] - 12s 134ms/step - loss: 0.2843 - accuracy: 0.8752 - val_loss: 0.4581 - val_accuracy: 0.8022\n",
            "Epoch 30/30\n",
            "87/87 [==============================] - 11s 122ms/step - loss: 0.2807 - accuracy: 0.8777 - val_loss: 0.4526 - val_accuracy: 0.8047\n"
          ]
        }
      ]
    },
    {
      "cell_type": "code",
      "source": [
        "plt.figure(figsize=(16,5))\n",
        "epochs = range(1, len(history.history['accuracy'])+1)\n",
        "plt.plot(epochs, history.history['loss'], 'b', label='Training Loss', color='red')\n",
        "plt.plot(epochs, history.history['val_loss'], 'b', label='Validation Loss')\n",
        "plt.legend()\n",
        "plt.show()"
      ],
      "metadata": {
        "colab": {
          "base_uri": "https://localhost:8080/",
          "height": 375
        },
        "id": "smQt2kZ1-E9J",
        "outputId": "919e10d6-e58b-41dd-eb48-88f6a1e9808f"
      },
      "execution_count": 74,
      "outputs": [
        {
          "output_type": "stream",
          "name": "stderr",
          "text": [
            "<ipython-input-74-b166e350bd5f>:3: UserWarning: color is redundantly defined by the 'color' keyword argument and the fmt string \"b\" (-> color=(0.0, 0.0, 1.0, 1)). The keyword argument will take precedence.\n",
            "  plt.plot(epochs, history.history['loss'], 'b', label='Training Loss', color='red')\n"
          ]
        },
        {
          "output_type": "display_data",
          "data": {
            "text/plain": [
              "<Figure size 1152x360 with 1 Axes>"
            ],
            "image/png": "[encoded data removed]"
          },
          "metadata": {
            "needs_background": "light"
          }
        }
      ]
    },
    {
      "cell_type": "code",
      "source": [
        "plt.figure(figsize=(16,5))\n",
        "epochs = range(1, len(history.history['accuracy'])+1)\n",
        "plt.plot(epochs, history.history['accuracy'], 'b', label='Training Accuracy', color='red')\n",
        "plt.plot(epochs, history.history['val_accuracy'], 'b', label='Validation Accuracy')\n",
        "plt.legend()\n",
        "plt.show()"
      ],
      "metadata": {
        "colab": {
          "base_uri": "https://localhost:8080/",
          "height": 375
        },
        "id": "G-ZRcwCR-TXn",
        "outputId": "4b4fe7e4-b86f-40ac-d535-edb7d43fd0a4"
      },
      "execution_count": 75,
      "outputs": [
        {
          "output_type": "stream",
          "name": "stderr",
          "text": [
            "<ipython-input-75-f02d2ebc0bd6>:3: UserWarning: color is redundantly defined by the 'color' keyword argument and the fmt string \"b\" (-> color=(0.0, 0.0, 1.0, 1)). The keyword argument will take precedence.\n",
            "  plt.plot(epochs, history.history['accuracy'], 'b', label='Training Accuracy', color='red')\n"
          ]
        },
        {
          "output_type": "display_data",
          "data": {
            "text/plain": [
              "<Figure size 1152x360 with 1 Axes>"
            ],
            "image/png": "[encoded data removed]"
          },
          "metadata": {
            "needs_background": "light"
          }
        }
      ]
    },
    {
      "cell_type": "code",
      "source": [
        "## Evaluatiing model performation\n",
        "y_predict = []\n",
        "for i in vanilla_lstm_model.predict(X_test):\n",
        "  if i > 0.5:\n",
        "    y_predict.append(1)\n",
        "  else:\n",
        "    y_predict.append(0)\n",
        "\n",
        "\n",
        "print(classification_report(y_test, y_predict))"
      ],
      "metadata": {
        "colab": {
          "base_uri": "https://localhost:8080/"
        },
        "id": "hR9Q6IY-AFhQ",
        "outputId": "6a2f6d53-3d5b-4401-c234-773ef4089c37"
      },
      "execution_count": 76,
      "outputs": [
        {
          "output_type": "stream",
          "name": "stdout",
          "text": [
            "174/174 [==============================] - 3s 13ms/step\n",
            "              precision    recall  f1-score   support\n",
            "\n",
            "           0       0.79      0.84      0.82      2861\n",
            "           1       0.82      0.76      0.79      2700\n",
            "\n",
            "    accuracy                           0.80      5561\n",
            "   macro avg       0.81      0.80      0.80      5561\n",
            "weighted avg       0.81      0.80      0.80      5561\n",
            "\n"
          ]
        }
      ]
    },
    {
      "cell_type": "code",
      "source": [
        "## test with sample headline text \n",
        "sample_headline = ['thirtysomething scientists unveil doomsday clock of hair loss']\n",
        "\n",
        "sample_headline_df = pd.DataFrame({'headline' :sample_headline})\n",
        "\n",
        "sample_headline_df.headline = sample_headline_df.headline.apply(headline_cleaning)\n",
        "\n",
        "sample_headline_df = tokenizer.texts_to_sequences(sample_headline_df)\n",
        "\n",
        "sample_headline_df = pad_sequences(sample_headline_df, maxlen=MAX_SEQ_LENGTH, truncating='post', padding='post')\n",
        "\n",
        "for i in vanilla_lstm_model.predict(sample_headline_df):\n",
        "  if i > 0.5:\n",
        "    print(f\"Headline is a Sarcasm\")\n",
        "  else:\n",
        "    print(f\"Headline is not a Sarcasm\")"
      ],
      "metadata": {
        "colab": {
          "base_uri": "https://localhost:8080/"
        },
        "id": "mXQHIM2OYmZR",
        "outputId": "72ad5c4f-0851-4906-b1ba-0aba84643cb6"
      },
      "execution_count": 77,
      "outputs": [
        {
          "output_type": "stream",
          "name": "stdout",
          "text": [
            "1/1 [==============================] - 0s 27ms/step\n",
            "Headline is a Sarcasm\n"
          ]
        }
      ]
    }
  ]
}